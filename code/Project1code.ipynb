{
 "cells": [
  {
   "attachments": {},
   "cell_type": "markdown",
   "metadata": {},
   "source": [
    "# Charles' Project 1: Data Analysis of Singapore Rainfall"
   ]
  },
  {
   "attachments": {},
   "cell_type": "markdown",
   "metadata": {},
   "source": [
    "# Background\n",
    "\n",
    "\n",
    " This is a notebook to track Charles' progress for the Project 1 objectives - to display proficiencies in the usage of skills taught in Week 1 of General Assembly.\n",
    "\n",
    "\n",
    "### Sections and skills used:\n",
    "\n",
    "- Data Import and Cleaning\n",
    "- Forming of Hypothesis Question\n",
    "- Exploratory Data Analysis\n",
    "- Data Visualization\n",
    "- Conclusions and Recommendations\n"
   ]
  },
  {
   "attachments": {},
   "cell_type": "markdown",
   "metadata": {},
   "source": [
    "## Data Descriptions\n",
    "\n",
    "\n",
    " Monthly number of rain days from 1982 to 2022. A day is considered to have “rained” if the total rainfall for that day is 0.2mm or more.\n",
    "* [1 `rainfall-monthly-number-of-rain-days.csv`](./data/rainfall-monthly-number-of-rain-days.csv)\n",
    "\n",
    "\n",
    "Monthly total rain recorded in mm(millimeters) from 1982 to 2022\n",
    "* [2 `rainfall-monthly-total.csv`](./data/rainfall-monthly-total.csv)\n",
    "\n",
    "\n",
    "Highest Daily Rainfall In The Month\n",
    "* [3 `relative-humidity-monthly-mean.csv`](https://data.gov.sg/dataset/relative-humidity-monthly-mean)\n",
    "\n",
    "\n",
    "Highest Daily Rainfall In The Month\n",
    "* [4 `rainfall-monthly-highest-daily-total.csv`](https://data.gov.sg/dataset/rainfall-monthly-maximum-daily-total)\n",
    "\n",
    "\n",
    "Hourly Wet bulb temperature, 3 columns - wbt_date, wbt_time, wet_bulb_temperature\n",
    "* [5 `wet-bulb-temperature-hourly.csv`](https://data.gov.sg/dataset/wet-bulb-temperature-hourly)\n",
    "\n",
    "\n",
    "Monthly mean sunshine hours, mean_sunshine_hrs\n",
    "* [6 `sunshine-duration-monthly-mean-daily-duration.csv`](https://data.gov.sg/dataset/sunshine-duration-monthly-mean-daily-duration): \n",
    "\n",
    "\n",
    "The monthly mean of the minimum temperature each day, temp_mean_daily_min in Degree Celcius\n",
    "* [7 `surface-air-temperature-monthly-mean.csv`](https://data.gov.sg/dataset/surface-air-temperature-mean-daily-minimum)"
   ]
  },
  {
   "attachments": {},
   "cell_type": "markdown",
   "metadata": {},
   "source": [
    "# Data Import and Cleaning"
   ]
  },
  {
   "attachments": {},
   "cell_type": "markdown",
   "metadata": {},
   "source": [
    "## Import packages\n"
   ]
  },
  {
   "cell_type": "code",
   "execution_count": 22,
   "metadata": {},
   "outputs": [
    {
     "name": "stdout",
     "output_type": "stream",
     "text": [
      "c:\\Users\\chaaa\\Documents\\GitHub\\DSI-SG-37\\project_1\\code\n"
     ]
    }
   ],
   "source": [
    "import numpy as np\n",
    "import pandas as pd\n",
    "import matplotlib.pyplot as plt\n",
    "\n",
    "import os\n",
    "print(os.getcwd())\n"
   ]
  },
  {
   "cell_type": "code",
   "execution_count": 27,
   "metadata": {},
   "outputs": [],
   "source": [
    "#1 Number of Rain Days Each Month from 1982 to 2022\n",
    "one = pd.read_csv(r\"..\\data\\rainfall-monthly-number-of-rain-days.csv\")\n",
    "two = pd.read_csv(r\"..\\data\\rainfall-monthly-total.csv\")\n",
    "three = pd.read_csv(r\"..\\data\\relative-humidity-monthly-mean.csv\")\n",
    "four = pd.read_csv(r\"..\\data\\rainfall-monthly-highest-daily-total.csv\")\n",
    "five = pd.read_csv(r\"..\\data\\wet-bulb-temperature-hourly.csv\")\n",
    "six = pd.read_csv(r\"..\\data\\sunshine-duration-monthly-mean-daily-duration.csv\")\n",
    "seven = pd.read_csv(r\"..\\data\\surface-air-temperature-monthly-mean.csv\")\n",
    "\n"
   ]
  },
  {
   "attachments": {},
   "cell_type": "markdown",
   "metadata": {},
   "source": [
    "## Cleaning Overview\n",
    "\n",
    "So first, cleaning involves:\n",
    "\n",
    "1. Display the data: print the first 5 rows of each dataframe to your Jupyter notebook.\n",
    "2. Check for missing values and datatype.\n",
    "3. Check for any obvious issues with the observations.\n",
    "4. Fix any errors you identified in steps 2-3.\n",
    "6. Fix any incorrect data types found in step 5.\n",
    "    - Fix any individual values preventing other columns from being the appropriate type.\n",
    "    - If the month column data is better analyzed as month and year, create new columns for the same\n",
    "7. Rename Columns.\n",
    "    - Column names should be all lowercase.\n",
    "    - Column names should not contain spaces (underscores will suffice--this allows for using the `df.column_name` method to access columns in addition to `df['column_name']`).\n",
    "    - Column names should be unique and informative.\n",
    "8. Drop unnecessary rows (if needed).\n",
    "9. Merge dataframes that can be merged.\n",
    "    - Since different climate metrics are in month format, you can merge them into one single dataframe for easier analysis\n",
    "10. Perform any additional cleaning that you feel is necessary.\n",
    "11. Save your cleaned and merged dataframes as csv files."
   ]
  },
  {
   "attachments": {},
   "cell_type": "markdown",
   "metadata": {},
   "source": [
    "### 1. Display the data: print the first 5 rows of each dataframe to your Jupyter notebook."
   ]
  },
  {
   "cell_type": "code",
   "execution_count": 51,
   "metadata": {},
   "outputs": [
    {
     "name": "stdout",
     "output_type": "stream",
     "text": [
      "     month  no_of_rainy_days\n",
      "0  1982-01                10\n",
      "1  1982-02                 5\n",
      "2  1982-03                11\n",
      "3  1982-04                14\n",
      "4  1982-05                10\n",
      "     month  total_rainfall\n",
      "0  1982-01           107.1\n",
      "1  1982-02            27.8\n",
      "2  1982-03           160.8\n",
      "3  1982-04           157.0\n",
      "4  1982-05           102.2\n",
      "     month  mean_rh\n",
      "0  1982-01     81.2\n",
      "1  1982-02     79.5\n",
      "2  1982-03     82.3\n",
      "3  1982-04     85.9\n",
      "4  1982-05     83.2\n",
      "     month  maximum_rainfall_in_a_day\n",
      "0  1982-01                       36.5\n",
      "1  1982-02                        9.4\n",
      "2  1982-03                       61.7\n",
      "3  1982-04                       45.1\n",
      "4  1982-05                       33.0\n",
      "    wbt_date  wbt_time  wet_bulb_temperature\n",
      "0 1982-01-01         1                  24.7\n",
      "1 1982-01-01         2                  24.5\n",
      "2 1982-01-01         3                  24.3\n",
      "3 1982-01-01         4                  24.2\n",
      "4 1982-01-01         5                  24.2\n",
      "     month  mean_sunshine_hrs\n",
      "0  1982-01                5.6\n",
      "1  1982-02                7.6\n",
      "2  1982-03                5.1\n",
      "3  1982-04                4.7\n",
      "4  1982-05                5.8\n",
      "     month  mean_temp\n",
      "0  1982-01       25.9\n",
      "1  1982-02       27.1\n",
      "2  1982-03       27.2\n",
      "3  1982-04       27.0\n",
      "4  1982-05       28.0\n"
     ]
    }
   ],
   "source": [
    "print(one.head(5))\n",
    "print(two.head(5))\n",
    "print(three.head(5))\n",
    "print(four.head(5))\n",
    "print(five.head(5))\n",
    "print(six.head(5))\n",
    "print(seven.head(5))"
   ]
  },
  {
   "attachments": {},
   "cell_type": "markdown",
   "metadata": {},
   "source": [
    "### 2. Check for missing values and datatype."
   ]
  },
  {
   "cell_type": "code",
   "execution_count": 33,
   "metadata": {},
   "outputs": [
    {
     "name": "stdout",
     "output_type": "stream",
     "text": [
      "Dataframe: one\n",
      "Missing values:\n",
      "month               0\n",
      "no_of_rainy_days    0\n",
      "dtype: int64\n",
      "Dtypes:\n",
      "month               object\n",
      "no_of_rainy_days     int64\n",
      "dtype: object\n",
      "--------------------------------------------------\n",
      "Dataframe: two\n",
      "Missing values:\n",
      "month             0\n",
      "total_rainfall    0\n",
      "dtype: int64\n",
      "Dtypes:\n",
      "month              object\n",
      "total_rainfall    float64\n",
      "dtype: object\n",
      "--------------------------------------------------\n",
      "Dataframe: three\n",
      "Missing values:\n",
      "month      0\n",
      "mean_rh    0\n",
      "dtype: int64\n",
      "Dtypes:\n",
      "month       object\n",
      "mean_rh    float64\n",
      "dtype: object\n",
      "--------------------------------------------------\n",
      "Dataframe: four\n",
      "Missing values:\n",
      "month                        0\n",
      "maximum_rainfall_in_a_day    0\n",
      "dtype: int64\n",
      "Dtypes:\n",
      "month                         object\n",
      "maximum_rainfall_in_a_day    float64\n",
      "dtype: object\n",
      "--------------------------------------------------\n",
      "Dataframe: five\n",
      "Missing values:\n",
      "wbt_date                0\n",
      "wbt_time                0\n",
      "wet_bulb_temperature    0\n",
      "dtype: int64\n",
      "Dtypes:\n",
      "wbt_date                 object\n",
      "wbt_time                  int64\n",
      "wet_bulb_temperature    float64\n",
      "dtype: object\n",
      "--------------------------------------------------\n",
      "Dataframe: six\n",
      "Missing values:\n",
      "month                0\n",
      "mean_sunshine_hrs    0\n",
      "dtype: int64\n",
      "Dtypes:\n",
      "month                 object\n",
      "mean_sunshine_hrs    float64\n",
      "dtype: object\n",
      "--------------------------------------------------\n",
      "Dataframe: seven\n",
      "Missing values:\n",
      "month        0\n",
      "mean_temp    0\n",
      "dtype: int64\n",
      "Dtypes:\n",
      "month         object\n",
      "mean_temp    float64\n",
      "dtype: object\n",
      "--------------------------------------------------\n"
     ]
    }
   ],
   "source": [
    "dataframes = {\n",
    "    'one': one,\n",
    "    'two': two,\n",
    "    'three': three,\n",
    "    'four': four,\n",
    "    'five': five,\n",
    "    'six': six,\n",
    "    'seven': seven\n",
    "}\n",
    "\n",
    "\n",
    "for name, df in dataframes.items():\n",
    "    print(f\"Dataframe: {name}\")\n",
    "    print(f\"Missing values:\\n{df.isnull().sum()}\")\n",
    "    print(f\"Dtypes:\\n{df.dtypes}\")\n",
    "    print(\"-\" * 50 )"
   ]
  },
  {
   "attachments": {},
   "cell_type": "markdown",
   "metadata": {},
   "source": [
    "### 3 Check for any obvious issues with the observations.\n"
   ]
  },
  {
   "attachments": {},
   "cell_type": "markdown",
   "metadata": {},
   "source": [
    "It seems that there are no missing values at all in any of the datasets.\n",
    "\n",
    "In dataframe [five], which is the wet-bulb-temperature dataset, there seems to be a problem. The [wbt_date] column appears to be the type 'object' which needs to be converted to a datetime type. \n"
   ]
  },
  {
   "cell_type": "code",
   "execution_count": 48,
   "metadata": {},
   "outputs": [
    {
     "name": "stdout",
     "output_type": "stream",
     "text": [
      "--------------------------------------------------\n",
      "WBT dataset five datatypes:\n",
      "wbt_date                datetime64[ns]\n",
      "wbt_time                         int64\n",
      "wet_bulb_temperature           float64\n",
      "dtype: object\n",
      "--------------------------------------------------\n",
      "WBT dataset head \n",
      "0   1982-01-01\n",
      "1   1982-01-01\n",
      "2   1982-01-01\n",
      "3   1982-01-01\n",
      "4   1982-01-01\n",
      "Name: wbt_date, dtype: datetime64[ns]\n",
      "--------------------------------------------------\n",
      "It seems that the datetime format has been successful in the wbt_date column.\n",
      "--------------------------------------------------\n"
     ]
    }
   ],
   "source": [
    "print(\"-\" * 50 )\n",
    "five['wbt_date'] = pd.to_datetime(five['wbt_date'])\n",
    "\n",
    "print(f\"WBT dataset five datatypes:\\n{five.dtypes}\")\n",
    "\n",
    "print(\"-\" * 50 )\n",
    "print(f\"WBT dataset head \\n{five['wbt_date'].head()}\")\n",
    "\n",
    "\n",
    "print(\"-\" * 50 )\n",
    "print('It seems that the datetime format has been successful in the wbt_date column.')\n",
    "\n",
    "print(\"-\" * 50 )\n"
   ]
  },
  {
   "attachments": {},
   "cell_type": "markdown",
   "metadata": {},
   "source": [
    "### 4. Fix any errors you identified in steps 2-3."
   ]
  },
  {
   "attachments": {},
   "cell_type": "markdown",
   "metadata": {},
   "source": [
    "Seems to be fixed."
   ]
  },
  {
   "attachments": {},
   "cell_type": "markdown",
   "metadata": {},
   "source": [
    "### 6. Fix any incorrect data types found in step 5.\n",
    "    - Fix any individual values preventing other columns from being the appropriate type.\n",
    "    - If the month column data is better analyzed as month and year, create new columns for the same\n"
   ]
  },
  {
   "cell_type": "code",
   "execution_count": null,
   "metadata": {},
   "outputs": [],
   "source": [
    "#Creating new columns of month and year for each dataframe\n",
    "\n",
    "# Iterate over all dataframes\n",
    "for name, df in dataframes.items():\n",
    "    if 'month' in df.columns:\n",
    "        df['year'] = pd.to_datetime(df['month']).dt.year\n",
    "        df['month_num'] = pd.to_datetime(df['month']).dt.month\n",
    "    print(f\"Dataframe: {name}\")\n",
    "    print(df.head())  # print the first few rows to verify the changes\n",
    "    print(\"-\" * 50)\n",
    "\n",
    "\n",
    "\n",
    "#Extracting the same columns from five:\n",
    "five['year'] = five['wbt_date'].dt.year\n",
    "five['month_num'] = five['wbt_date'].dt.month\n",
    "\n",
    "print(five.head())\n",
    "\n"
   ]
  },
  {
   "attachments": {},
   "cell_type": "markdown",
   "metadata": {},
   "source": [
    "### 7. Rename Columns.\n",
    "    - Column names should be all lowercase.\n",
    "    - Column names should not contain spaces (underscores will suffice--this allows for using the `df.column_name` method to access columns in addition to `df['column_name']`).\n",
    "    - Column names should be unique and informative.\n"
   ]
  },
  {
   "cell_type": "code",
   "execution_count": 54,
   "metadata": {},
   "outputs": [
    {
     "name": "stdout",
     "output_type": "stream",
     "text": [
      "Dataframe: one\n",
      "      date  no_of_rainy_days  year  month\n",
      "0  1982-01                10  1982      1\n",
      "1  1982-02                 5  1982      2\n",
      "2  1982-03                11  1982      3\n",
      "3  1982-04                14  1982      4\n",
      "4  1982-05                10  1982      5\n",
      "--------------------------------------------------\n",
      "Dataframe: two\n",
      "      date  total_rainfall  year  month\n",
      "0  1982-01           107.1  1982      1\n",
      "1  1982-02            27.8  1982      2\n",
      "2  1982-03           160.8  1982      3\n",
      "3  1982-04           157.0  1982      4\n",
      "4  1982-05           102.2  1982      5\n",
      "--------------------------------------------------\n",
      "Dataframe: three\n",
      "      date  mean_rh  year  month\n",
      "0  1982-01     81.2  1982      1\n",
      "1  1982-02     79.5  1982      2\n",
      "2  1982-03     82.3  1982      3\n",
      "3  1982-04     85.9  1982      4\n",
      "4  1982-05     83.2  1982      5\n",
      "--------------------------------------------------\n",
      "Dataframe: four\n",
      "      date  maximum_rainfall_in_a_day  year  month\n",
      "0  1982-01                       36.5  1982      1\n",
      "1  1982-02                        9.4  1982      2\n",
      "2  1982-03                       61.7  1982      3\n",
      "3  1982-04                       45.1  1982      4\n",
      "4  1982-05                       33.0  1982      5\n",
      "--------------------------------------------------\n",
      "Dataframe: five\n",
      "    wbt_date  wbt_time  wet_bulb_temperature\n",
      "0 1982-01-01         1                  24.7\n",
      "1 1982-01-01         2                  24.5\n",
      "2 1982-01-01         3                  24.3\n",
      "3 1982-01-01         4                  24.2\n",
      "4 1982-01-01         5                  24.2\n",
      "--------------------------------------------------\n",
      "Dataframe: six\n",
      "      date  mean_sunshine_hrs  year  month\n",
      "0  1982-01                5.6  1982      1\n",
      "1  1982-02                7.6  1982      2\n",
      "2  1982-03                5.1  1982      3\n",
      "3  1982-04                4.7  1982      4\n",
      "4  1982-05                5.8  1982      5\n",
      "--------------------------------------------------\n",
      "Dataframe: seven\n",
      "      date  mean_temp  year  month\n",
      "0  1982-01       25.9  1982      1\n",
      "1  1982-02       27.1  1982      2\n",
      "2  1982-03       27.2  1982      3\n",
      "3  1982-04       27.0  1982      4\n",
      "4  1982-05       28.0  1982      5\n",
      "--------------------------------------------------\n"
     ]
    }
   ],
   "source": [
    "# Define the new column names\n",
    "new_column_names = {'month': 'date', 'month_num': 'month', 'mean_temp':'monthly_mean_of_min_daily_temperature_celcius',''}\n",
    "\n",
    "# Iterate over all dataframes\n",
    "for name, df in dataframes.items():\n",
    "    df.rename(columns=new_column_names, inplace=True)\n",
    "    print(f\"Dataframe: {name}\")\n",
    "    print(df.head())  # print the first few rows to verify the changes\n",
    "    print(\"-\" * 50)\n"
   ]
  },
  {
   "attachments": {},
   "cell_type": "markdown",
   "metadata": {},
   "source": [
    "### 8. Drop unnecessary rows (if needed).\n"
   ]
  },
  {
   "attachments": {},
   "cell_type": "markdown",
   "metadata": {},
   "source": [
    "### 9. Merge dataframes that can be merged.\n",
    "    - Since different climate metrics are in month format, you can merge them into one single dataframe for easier analysis\n"
   ]
  },
  {
   "attachments": {},
   "cell_type": "markdown",
   "metadata": {},
   "source": [
    "### 10. Perform any additional cleaning that you feel is necessary.\n"
   ]
  },
  {
   "attachments": {},
   "cell_type": "markdown",
   "metadata": {},
   "source": [
    "### 11. Save your cleaned and merged dataframes as csv files."
   ]
  }
 ],
 "metadata": {
  "kernelspec": {
   "display_name": "Python 3",
   "language": "python",
   "name": "python3"
  },
  "language_info": {
   "codemirror_mode": {
    "name": "ipython",
    "version": 3
   },
   "file_extension": ".py",
   "mimetype": "text/x-python",
   "name": "python",
   "nbconvert_exporter": "python",
   "pygments_lexer": "ipython3",
   "version": "3.11.3"
  },
  "orig_nbformat": 4
 },
 "nbformat": 4,
 "nbformat_minor": 2
}
